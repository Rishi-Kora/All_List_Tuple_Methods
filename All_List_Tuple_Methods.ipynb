{
  "nbformat": 4,
  "nbformat_minor": 0,
  "metadata": {
    "colab": {
      "provenance": [],
      "authorship_tag": "ABX9TyMCZ8GMvffn8vDDS2Ck9LC8",
      "include_colab_link": true
    },
    "kernelspec": {
      "name": "python3",
      "display_name": "Python 3"
    },
    "language_info": {
      "name": "python"
    }
  },
  "cells": [
    {
      "cell_type": "markdown",
      "metadata": {
        "id": "view-in-github",
        "colab_type": "text"
      },
      "source": [
        "<a href=\"https://colab.research.google.com/github/Rishi-Kora/All_List_Tuple_Methods/blob/main/All_List_Tuple_Methods.ipynb\" target=\"_parent\"><img src=\"https://colab.research.google.com/assets/colab-badge.svg\" alt=\"Open In Colab\"/></a>"
      ]
    },
    {
      "cell_type": "markdown",
      "source": [
        "List Methods"
      ],
      "metadata": {
        "id": "NP-gHXt5tmGr"
      }
    },
    {
      "cell_type": "code",
      "execution_count": null,
      "metadata": {
        "colab": {
          "base_uri": "https://localhost:8080/"
        },
        "id": "2X47m6sPtYlr",
        "outputId": "8d613c4e-a8b9-4e11-bceb-3ceb12c57a0a"
      },
      "outputs": [
        {
          "output_type": "execute_result",
          "data": {
            "text/plain": [
              "['Karthi', 'Akshaya', 'Ravi', 'Rochita']"
            ]
          },
          "metadata": {},
          "execution_count": 1
        }
      ],
      "source": [
        "name=[\"Karthi\",\"Akshaya\",\"Ravi\"]\n",
        "name.append(\"Rochita\") #adds the element in the end of the list\n",
        "name"
      ]
    },
    {
      "cell_type": "code",
      "source": [
        "name.clear() #clear the whole list\n",
        "name"
      ],
      "metadata": {
        "colab": {
          "base_uri": "https://localhost:8080/"
        },
        "id": "v1cVhY3Gtkfs",
        "outputId": "4d0738b8-4f14-40ae-991d-8007fb34cc96"
      },
      "execution_count": null,
      "outputs": [
        {
          "output_type": "execute_result",
          "data": {
            "text/plain": [
              "[]"
            ]
          },
          "metadata": {},
          "execution_count": 2
        }
      ]
    },
    {
      "cell_type": "code",
      "source": [
        "name=[\"Karthi\",\"Akshaya\",\"Akshaya\",\"Ravi\"]\n",
        "x=name.copy() #Creates a copy of the list\n",
        "print(x)"
      ],
      "metadata": {
        "colab": {
          "base_uri": "https://localhost:8080/"
        },
        "id": "Srtn94s7tqLT",
        "outputId": "2b507177-975b-4ccc-f7bf-6b7cba632fb9"
      },
      "execution_count": null,
      "outputs": [
        {
          "output_type": "stream",
          "name": "stdout",
          "text": [
            "['Karthi', 'Akshaya', 'Akshaya', 'Ravi']\n"
          ]
        }
      ]
    },
    {
      "cell_type": "code",
      "source": [
        "name.count(\"Akshaya\") #counts the number of elements in the list"
      ],
      "metadata": {
        "colab": {
          "base_uri": "https://localhost:8080/"
        },
        "id": "m02HuPawts6l",
        "outputId": "5af1ecfc-bc8b-46a1-9d6f-860b90a216de"
      },
      "execution_count": null,
      "outputs": [
        {
          "output_type": "execute_result",
          "data": {
            "text/plain": [
              "2"
            ]
          },
          "metadata": {},
          "execution_count": 4
        }
      ]
    },
    {
      "cell_type": "code",
      "source": [
        "name=[\"Karthi\",\"Akshaya\",\"Akshaya\",\"Ravi\"]\n",
        "cars=[\"Audi\",\"BMW\",\"Lamborghini\",\"VW\"]\n",
        "name.extend(cars) #combines two lists together\n",
        "name"
      ],
      "metadata": {
        "colab": {
          "base_uri": "https://localhost:8080/"
        },
        "id": "hAyEDdW6tvxK",
        "outputId": "fa7af160-0914-4e00-df62-4f072e0e14ce"
      },
      "execution_count": null,
      "outputs": [
        {
          "output_type": "execute_result",
          "data": {
            "text/plain": [
              "['Karthi', 'Akshaya', 'Akshaya', 'Ravi', 'Audi', 'BMW', 'Lamborghini', 'VW']"
            ]
          },
          "metadata": {},
          "execution_count": 5
        }
      ]
    },
    {
      "cell_type": "code",
      "source": [
        "name.index(\"BMW\") #gives the index of the specified element"
      ],
      "metadata": {
        "colab": {
          "base_uri": "https://localhost:8080/"
        },
        "id": "fzoNF0hxtwKF",
        "outputId": "8087d268-d68e-4595-929c-99e872f984ea"
      },
      "execution_count": null,
      "outputs": [
        {
          "output_type": "execute_result",
          "data": {
            "text/plain": [
              "5"
            ]
          },
          "metadata": {},
          "execution_count": 6
        }
      ]
    },
    {
      "cell_type": "code",
      "source": [
        "name"
      ],
      "metadata": {
        "colab": {
          "base_uri": "https://localhost:8080/"
        },
        "id": "hlm63of-t485",
        "outputId": "2a15330e-e881-4da2-8281-4ea4fe59c6c4"
      },
      "execution_count": null,
      "outputs": [
        {
          "output_type": "execute_result",
          "data": {
            "text/plain": [
              "['Karthi', 'Akshaya', 'Akshaya', 'Ravi', 'Audi', 'BMW', 'Lamborghini', 'VW']"
            ]
          },
          "metadata": {},
          "execution_count": 7
        }
      ]
    },
    {
      "cell_type": "code",
      "source": [
        "name.pop() #removes the specified element"
      ],
      "metadata": {
        "colab": {
          "base_uri": "https://localhost:8080/",
          "height": 35
        },
        "id": "tC5EzPtlt5V9",
        "outputId": "be73966c-2202-4062-d626-b76dc52520f7"
      },
      "execution_count": null,
      "outputs": [
        {
          "output_type": "execute_result",
          "data": {
            "text/plain": [
              "'VW'"
            ],
            "application/vnd.google.colaboratory.intrinsic+json": {
              "type": "string"
            }
          },
          "metadata": {},
          "execution_count": 8
        }
      ]
    },
    {
      "cell_type": "code",
      "source": [
        "name"
      ],
      "metadata": {
        "colab": {
          "base_uri": "https://localhost:8080/"
        },
        "id": "kZWq2P4UuE0G",
        "outputId": "69203056-e8da-40ca-d109-82ec207131a4"
      },
      "execution_count": null,
      "outputs": [
        {
          "output_type": "execute_result",
          "data": {
            "text/plain": [
              "['Karthi', 'Akshaya', 'Akshaya', 'Ravi', 'Audi', 'BMW', 'Lamborghini']"
            ]
          },
          "metadata": {},
          "execution_count": 9
        }
      ]
    },
    {
      "cell_type": "code",
      "source": [
        "name.insert(8,\"Toyota\") #adds an element in the specified position\n",
        "name"
      ],
      "metadata": {
        "colab": {
          "base_uri": "https://localhost:8080/"
        },
        "id": "3LMcSYZduJGz",
        "outputId": "4ab13c00-1f56-40d8-be5b-3af0af1ce9c2"
      },
      "execution_count": null,
      "outputs": [
        {
          "output_type": "execute_result",
          "data": {
            "text/plain": [
              "['Karthi',\n",
              " 'Akshaya',\n",
              " 'Akshaya',\n",
              " 'Ravi',\n",
              " 'Audi',\n",
              " 'BMW',\n",
              " 'Lamborghini',\n",
              " 'Toyota']"
            ]
          },
          "metadata": {},
          "execution_count": 10
        }
      ]
    },
    {
      "cell_type": "code",
      "source": [
        "name.pop(0) #it removes an element in an specified position"
      ],
      "metadata": {
        "colab": {
          "base_uri": "https://localhost:8080/",
          "height": 35
        },
        "id": "c3ydLZnpuJfF",
        "outputId": "1d66043b-e6c9-40b4-d733-08e2947732d7"
      },
      "execution_count": null,
      "outputs": [
        {
          "output_type": "execute_result",
          "data": {
            "text/plain": [
              "'Karthi'"
            ],
            "application/vnd.google.colaboratory.intrinsic+json": {
              "type": "string"
            }
          },
          "metadata": {},
          "execution_count": 11
        }
      ]
    },
    {
      "cell_type": "code",
      "source": [
        "name"
      ],
      "metadata": {
        "colab": {
          "base_uri": "https://localhost:8080/"
        },
        "id": "OwowY_bIuSQJ",
        "outputId": "a6c7c7f5-0063-4be0-9060-342c5fcfbf6a"
      },
      "execution_count": null,
      "outputs": [
        {
          "output_type": "execute_result",
          "data": {
            "text/plain": [
              "['Akshaya', 'Akshaya', 'Ravi', 'Audi', 'BMW', 'Lamborghini', 'Toyota']"
            ]
          },
          "metadata": {},
          "execution_count": 12
        }
      ]
    },
    {
      "cell_type": "code",
      "source": [
        "name.remove(\"Akshaya\") #removes a first item with a specified value\n",
        "name"
      ],
      "metadata": {
        "colab": {
          "base_uri": "https://localhost:8080/"
        },
        "id": "kZRDyE2puSlS",
        "outputId": "5cf42c73-14f9-4b25-c4b4-b4299228f06b"
      },
      "execution_count": null,
      "outputs": [
        {
          "output_type": "execute_result",
          "data": {
            "text/plain": [
              "['Akshaya', 'Ravi', 'Audi', 'BMW', 'Toyota']"
            ]
          },
          "metadata": {},
          "execution_count": 14
        }
      ]
    },
    {
      "cell_type": "code",
      "source": [
        "name.reverse() #reverses the list elements\n",
        "name"
      ],
      "metadata": {
        "colab": {
          "base_uri": "https://localhost:8080/"
        },
        "id": "4DhHXreIuUOv",
        "outputId": "33611fce-bed3-4419-c8e5-50ec8f1c9c6d"
      },
      "execution_count": null,
      "outputs": [
        {
          "output_type": "execute_result",
          "data": {
            "text/plain": [
              "['Toyota', 'BMW', 'Audi', 'Ravi', 'Akshaya']"
            ]
          },
          "metadata": {},
          "execution_count": 15
        }
      ]
    },
    {
      "cell_type": "code",
      "source": [
        "name.sort() #sorts the element in the alphabetical order\n",
        "name"
      ],
      "metadata": {
        "colab": {
          "base_uri": "https://localhost:8080/"
        },
        "id": "LBTcyAL3ueLS",
        "outputId": "2aca305f-441a-46a4-f49c-b9becfaca8e9"
      },
      "execution_count": null,
      "outputs": [
        {
          "output_type": "execute_result",
          "data": {
            "text/plain": [
              "['Akshaya', 'Audi', 'BMW', 'Ravi', 'Toyota']"
            ]
          },
          "metadata": {},
          "execution_count": 16
        }
      ]
    },
    {
      "cell_type": "markdown",
      "source": [
        "Tuple"
      ],
      "metadata": {
        "id": "XvGY1LlTuqHw"
      }
    },
    {
      "cell_type": "code",
      "source": [
        "a=(\"Rishi\",\"Nishitha\",\"Rochita\")\n",
        "a.count(\"Rochita\") #counts the specified element"
      ],
      "metadata": {
        "colab": {
          "base_uri": "https://localhost:8080/"
        },
        "id": "eJ5qoAlTueks",
        "outputId": "5fac695d-5cf5-4952-9631-c28f3394832d"
      },
      "execution_count": null,
      "outputs": [
        {
          "output_type": "execute_result",
          "data": {
            "text/plain": [
              "1"
            ]
          },
          "metadata": {},
          "execution_count": 17
        }
      ]
    },
    {
      "cell_type": "code",
      "source": [
        "a.index(\"Nishitha\") #it returns the index position of a specified value"
      ],
      "metadata": {
        "colab": {
          "base_uri": "https://localhost:8080/"
        },
        "id": "AOO0m7dtvI5y",
        "outputId": "2c250cc5-9d41-4d15-bdd5-fc8c0785ebcb"
      },
      "execution_count": null,
      "outputs": [
        {
          "output_type": "execute_result",
          "data": {
            "text/plain": [
              "1"
            ]
          },
          "metadata": {},
          "execution_count": 18
        }
      ]
    },
    {
      "cell_type": "markdown",
      "source": [
        "Set"
      ],
      "metadata": {
        "id": "CkTzPHCivZt2"
      }
    },
    {
      "cell_type": "code",
      "source": [
        "exampleset = {\"Juice\", \"Milk\", \"Egg\", \"Bread\"}\n",
        "exampleset.add(\"Mutton\") #adds a new element to the set"
      ],
      "metadata": {
        "id": "Plcg-LU-vO7n"
      },
      "execution_count": null,
      "outputs": []
    },
    {
      "cell_type": "code",
      "source": [
        "exampleset"
      ],
      "metadata": {
        "colab": {
          "base_uri": "https://localhost:8080/"
        },
        "id": "jMUJn6NMw1-m",
        "outputId": "7f7b6092-ee7b-497b-a7b5-8143d6e6d63c"
      },
      "execution_count": null,
      "outputs": [
        {
          "output_type": "execute_result",
          "data": {
            "text/plain": [
              "{'Bread', 'Egg', 'Juice', 'Milk', 'Mutton'}"
            ]
          },
          "metadata": {},
          "execution_count": 20
        }
      ]
    },
    {
      "cell_type": "code",
      "source": [
        "exampleset.clear() #removes all the elements from the set"
      ],
      "metadata": {
        "id": "7-jE7nMmw4No"
      },
      "execution_count": null,
      "outputs": []
    },
    {
      "cell_type": "code",
      "source": [
        "exampleset"
      ],
      "metadata": {
        "colab": {
          "base_uri": "https://localhost:8080/"
        },
        "id": "4uBfSdaixYes",
        "outputId": "fdfc0274-0abf-4534-b950-f2c408bc85c3"
      },
      "execution_count": null,
      "outputs": [
        {
          "output_type": "execute_result",
          "data": {
            "text/plain": [
              "set()"
            ]
          },
          "metadata": {},
          "execution_count": 22
        }
      ]
    },
    {
      "cell_type": "code",
      "source": [
        "set1={\"Ford\",\"Fiat\",\"Mercedes Benz\",\"Kia\"}\n",
        "set1.copy() #returns a copy of the set"
      ],
      "metadata": {
        "colab": {
          "base_uri": "https://localhost:8080/"
        },
        "id": "HybkDuFOxZmY",
        "outputId": "8b5abb67-3745-4887-c153-e2c1133ab0f2"
      },
      "execution_count": null,
      "outputs": [
        {
          "output_type": "execute_result",
          "data": {
            "text/plain": [
              "{'Fiat', 'Ford', 'Kia', 'Mercedes Benz'}"
            ]
          },
          "metadata": {},
          "execution_count": 27
        }
      ]
    },
    {
      "cell_type": "code",
      "source": [
        "set2={\"Kia\",\"banana\",\"grapes\",\"raisins\"}"
      ],
      "metadata": {
        "id": "QNJI9Gn0x7Lr"
      },
      "execution_count": null,
      "outputs": []
    },
    {
      "cell_type": "code",
      "source": [
        "set2.difference(set1) #returns a set containing the difference between two or more sets"
      ],
      "metadata": {
        "colab": {
          "base_uri": "https://localhost:8080/"
        },
        "id": "HhehDfFszsM3",
        "outputId": "cbde341f-a17e-4ed7-bb4c-5013ca558094"
      },
      "execution_count": null,
      "outputs": [
        {
          "output_type": "execute_result",
          "data": {
            "text/plain": [
              "{'banana', 'grapes', 'raisins'}"
            ]
          },
          "metadata": {},
          "execution_count": 31
        }
      ]
    },
    {
      "cell_type": "code",
      "source": [
        "set1.difference(set2)"
      ],
      "metadata": {
        "colab": {
          "base_uri": "https://localhost:8080/"
        },
        "id": "jl1UTX5-0HKE",
        "outputId": "dde7beab-dc16-4aaf-fa0a-7f03c82118b0"
      },
      "execution_count": null,
      "outputs": [
        {
          "output_type": "execute_result",
          "data": {
            "text/plain": [
              "{'Fiat', 'Ford', 'Mercedes Benz'}"
            ]
          },
          "metadata": {},
          "execution_count": 32
        }
      ]
    },
    {
      "cell_type": "code",
      "source": [
        "set1.difference_update(set2) #removes the items in this set that are also included in another, specified set\n",
        "set1"
      ],
      "metadata": {
        "colab": {
          "base_uri": "https://localhost:8080/"
        },
        "id": "U5t5XShF06yz",
        "outputId": "251c46ce-d51d-49c6-d81d-b84875fa6860"
      },
      "execution_count": null,
      "outputs": [
        {
          "output_type": "execute_result",
          "data": {
            "text/plain": [
              "{'Fiat', 'Ford', 'Mercedes Benz'}"
            ]
          },
          "metadata": {},
          "execution_count": 34
        }
      ]
    },
    {
      "cell_type": "code",
      "source": [
        "set1.discard(\"Fiat\") #remove the specified item"
      ],
      "metadata": {
        "id": "wRm4UWdA2H3D"
      },
      "execution_count": null,
      "outputs": []
    },
    {
      "cell_type": "code",
      "source": [
        "set1"
      ],
      "metadata": {
        "colab": {
          "base_uri": "https://localhost:8080/"
        },
        "id": "dawvY14g255P",
        "outputId": "1faa41b6-5eb3-49fb-952f-78b4bcb31c05"
      },
      "execution_count": null,
      "outputs": [
        {
          "output_type": "execute_result",
          "data": {
            "text/plain": [
              "{'Ford', 'Mercedes Benz'}"
            ]
          },
          "metadata": {},
          "execution_count": 39
        }
      ]
    },
    {
      "cell_type": "code",
      "source": [
        "set2= {\"apple\", \"banana\", \"cherry\"}\n",
        "set3= {\"google\", \"microsoft\", \"apple\"}\n",
        "set2.intersection(set3) #returns a set, that is the intersection of two or more sets"
      ],
      "metadata": {
        "colab": {
          "base_uri": "https://localhost:8080/"
        },
        "id": "bP4stufL3JT8",
        "outputId": "8a123c70-71e1-4bdf-cf9b-c45c732fe2aa"
      },
      "execution_count": null,
      "outputs": [
        {
          "output_type": "execute_result",
          "data": {
            "text/plain": [
              "{'apple'}"
            ]
          },
          "metadata": {},
          "execution_count": 40
        }
      ]
    },
    {
      "cell_type": "code",
      "source": [
        "set2.intersection_update(set3) #removes the items in this set that are not present in other, specified sets"
      ],
      "metadata": {
        "id": "89l6Y0wX4lLH"
      },
      "execution_count": null,
      "outputs": []
    },
    {
      "cell_type": "code",
      "source": [
        "set2"
      ],
      "metadata": {
        "colab": {
          "base_uri": "https://localhost:8080/"
        },
        "id": "V-0wkVVr4yQ7",
        "outputId": "956542e6-cf8d-408c-8851-79482db2d680"
      },
      "execution_count": null,
      "outputs": [
        {
          "output_type": "execute_result",
          "data": {
            "text/plain": [
              "{'apple'}"
            ]
          },
          "metadata": {},
          "execution_count": 42
        }
      ]
    },
    {
      "cell_type": "code",
      "source": [
        "set3 = {\"apple\", \"banana\", \"cherry\"}\n",
        "set4= {\"google\", \"microsoft\", \"facebook\"}\n",
        "set3.isdisjoint(set4) #returns whether two sets have a intersection or not"
      ],
      "metadata": {
        "colab": {
          "base_uri": "https://localhost:8080/"
        },
        "id": "gNnFdmzx4zBS",
        "outputId": "3ace9247-1da7-425c-9e1c-8608d73090f6"
      },
      "execution_count": null,
      "outputs": [
        {
          "output_type": "execute_result",
          "data": {
            "text/plain": [
              "True"
            ]
          },
          "metadata": {},
          "execution_count": 43
        }
      ]
    },
    {
      "cell_type": "code",
      "source": [
        "set5= {\"a\", \"b\", \"c\"}\n",
        "set6 = {\"f\", \"e\", \"d\", \"c\", \"b\", \"a\"}"
      ],
      "metadata": {
        "id": "3DuZfExz57SO"
      },
      "execution_count": null,
      "outputs": []
    },
    {
      "cell_type": "code",
      "source": [
        "set5.issubset(set6) #returns whether another set contains this set or not"
      ],
      "metadata": {
        "colab": {
          "base_uri": "https://localhost:8080/"
        },
        "id": "Fbjg5Peg6V7r",
        "outputId": "4a0fdf51-81dc-434b-e392-46611048ac03"
      },
      "execution_count": null,
      "outputs": [
        {
          "output_type": "execute_result",
          "data": {
            "text/plain": [
              "True"
            ]
          },
          "metadata": {},
          "execution_count": 45
        }
      ]
    },
    {
      "cell_type": "code",
      "source": [
        "set6.issubset(set5)"
      ],
      "metadata": {
        "colab": {
          "base_uri": "https://localhost:8080/"
        },
        "id": "eeDAn9B76dcd",
        "outputId": "9e286bbb-6e95-4d84-b9e4-3818752b1184"
      },
      "execution_count": null,
      "outputs": [
        {
          "output_type": "execute_result",
          "data": {
            "text/plain": [
              "False"
            ]
          },
          "metadata": {},
          "execution_count": 46
        }
      ]
    },
    {
      "cell_type": "code",
      "source": [
        "fruits = {\"apple\", \"banana\", \"cherry\"}\n",
        "fruits.pop() #removes a random item from the set"
      ],
      "metadata": {
        "colab": {
          "base_uri": "https://localhost:8080/",
          "height": 35
        },
        "id": "t_4SYMm16mDk",
        "outputId": "5f9a2cb5-27d3-4629-ea22-3e073359fb6e"
      },
      "execution_count": null,
      "outputs": [
        {
          "output_type": "execute_result",
          "data": {
            "text/plain": [
              "'apple'"
            ],
            "application/vnd.google.colaboratory.intrinsic+json": {
              "type": "string"
            }
          },
          "metadata": {},
          "execution_count": 47
        }
      ]
    },
    {
      "cell_type": "code",
      "source": [
        "set1={\"Ford\",\"Fiat\",\"Mercedes Benz\",\"Kia\"}\n",
        "set1.remove(\"Kia\") #removes the specified element from the set"
      ],
      "metadata": {
        "id": "rCSlBf0J74qN"
      },
      "execution_count": null,
      "outputs": []
    },
    {
      "cell_type": "code",
      "source": [
        "set1"
      ],
      "metadata": {
        "colab": {
          "base_uri": "https://localhost:8080/"
        },
        "id": "3TyO3Cl08MQ3",
        "outputId": "d1992917-b1c7-43b7-9e36-a69ee948ec4a"
      },
      "execution_count": null,
      "outputs": [
        {
          "output_type": "execute_result",
          "data": {
            "text/plain": [
              "{'Fiat', 'Ford', 'Mercedes Benz'}"
            ]
          },
          "metadata": {},
          "execution_count": 49
        }
      ]
    },
    {
      "cell_type": "code",
      "source": [
        "set7={\"Rishi\",\"Prem\",\"Kavitha\"}\n",
        "set8={\"Rochita\",\"Rishi\",\"Nishi\"}\n",
        "set7.symmetric_difference(set8) #returns a set with the symmetric differences of two sets"
      ],
      "metadata": {
        "colab": {
          "base_uri": "https://localhost:8080/"
        },
        "id": "iWocAFFW8Nof",
        "outputId": "9a873316-489a-4870-8b50-1eafce40ffd9"
      },
      "execution_count": null,
      "outputs": [
        {
          "output_type": "execute_result",
          "data": {
            "text/plain": [
              "{'Kavitha', 'Nishi', 'Prem', 'Rochita'}"
            ]
          },
          "metadata": {},
          "execution_count": 50
        }
      ]
    },
    {
      "cell_type": "code",
      "source": [
        "set7.symmetric_difference_update(set8)"
      ],
      "metadata": {
        "id": "aTHYaBGm9B1D"
      },
      "execution_count": null,
      "outputs": []
    },
    {
      "cell_type": "code",
      "source": [
        "set7"
      ],
      "metadata": {
        "colab": {
          "base_uri": "https://localhost:8080/"
        },
        "id": "lEG1cqT39Wze",
        "outputId": "df5ae65e-667f-4a5e-f66f-6855f0669e99"
      },
      "execution_count": null,
      "outputs": [
        {
          "output_type": "execute_result",
          "data": {
            "text/plain": [
              "{'Kavitha', 'Nishi', 'Prem', 'Rochita'}"
            ]
          },
          "metadata": {},
          "execution_count": 52
        }
      ]
    },
    {
      "cell_type": "code",
      "source": [
        "set8= {\"apple\", \"banana\", \"cherry\"}\n",
        "set9 = {\"google\", \"microsoft\", \"apple\"}\n",
        "set8.union(set9) #returns a set that contains all items from the original set, and all items from the specified sets"
      ],
      "metadata": {
        "colab": {
          "base_uri": "https://localhost:8080/"
        },
        "id": "zwRbAR889Yiz",
        "outputId": "66107fa7-cb25-4c29-fefe-bcf035495561"
      },
      "execution_count": null,
      "outputs": [
        {
          "output_type": "execute_result",
          "data": {
            "text/plain": [
              "{'apple', 'banana', 'cherry', 'google', 'microsoft'}"
            ]
          },
          "metadata": {},
          "execution_count": 53
        }
      ]
    },
    {
      "cell_type": "code",
      "source": [
        "set10 = {\"apple\", \"banana\", \"cherry\"}\n",
        "set11 = {\"google\", \"microsoft\", \"apple\"}\n",
        "set10.update(set11) #u\n",
        "pdate the set with another set, or any other iterable"
      ],
      "metadata": {
        "id": "FvXnyhRm-UQ1"
      },
      "execution_count": null,
      "outputs": []
    },
    {
      "cell_type": "code",
      "source": [
        "set10"
      ],
      "metadata": {
        "colab": {
          "base_uri": "https://localhost:8080/"
        },
        "id": "2HMmuucA-n9S",
        "outputId": "2d7865a2-5a83-4351-f20a-c5b50200e63b"
      },
      "execution_count": null,
      "outputs": [
        {
          "output_type": "execute_result",
          "data": {
            "text/plain": [
              "{'apple', 'banana', 'cherry', 'google', 'microsoft'}"
            ]
          },
          "metadata": {},
          "execution_count": 55
        }
      ]
    },
    {
      "cell_type": "code",
      "source": [
        "set11"
      ],
      "metadata": {
        "colab": {
          "base_uri": "https://localhost:8080/"
        },
        "id": "M46FJgWg-pDz",
        "outputId": "15df94e1-9bec-4c5b-a3a8-54ddc282a523"
      },
      "execution_count": null,
      "outputs": [
        {
          "output_type": "execute_result",
          "data": {
            "text/plain": [
              "{'apple', 'google', 'microsoft'}"
            ]
          },
          "metadata": {},
          "execution_count": 56
        }
      ]
    },
    {
      "cell_type": "markdown",
      "source": [
        "dictonary"
      ],
      "metadata": {
        "id": "PfUsvFHqHm8i"
      }
    },
    {
      "cell_type": "code",
      "source": [
        "name={\"Rishi\":22,\"Prem\":52,\"Rochita\":24}\n",
        "name"
      ],
      "metadata": {
        "colab": {
          "base_uri": "https://localhost:8080/"
        },
        "id": "j1l8DOaB-qhm",
        "outputId": "49e20304-6e92-4ab9-ff00-8b5e528625d4"
      },
      "execution_count": null,
      "outputs": [
        {
          "output_type": "execute_result",
          "data": {
            "text/plain": [
              "{'Rishi': 22, 'Prem': 52, 'Rochita': 24}"
            ]
          },
          "metadata": {},
          "execution_count": 57
        }
      ]
    },
    {
      "cell_type": "code",
      "source": [
        "name.clear() #removes all the elements from a dictionary\n",
        "name"
      ],
      "metadata": {
        "colab": {
          "base_uri": "https://localhost:8080/"
        },
        "id": "U29pJD-wIPMV",
        "outputId": "c64afb34-6fb8-4696-a476-8e46e509a680"
      },
      "execution_count": null,
      "outputs": [
        {
          "output_type": "execute_result",
          "data": {
            "text/plain": [
              "{}"
            ]
          },
          "metadata": {},
          "execution_count": 58
        }
      ]
    },
    {
      "cell_type": "code",
      "source": [
        "cars={\"BMW\":\"X1\",\"Lamborghini\":\"Urus\",\"Audi\":\"A8\"}\n",
        "cars.copy() #returns a copy of the specified dictionary"
      ],
      "metadata": {
        "colab": {
          "base_uri": "https://localhost:8080/"
        },
        "id": "eb_ClB_YIXFi",
        "outputId": "e6010349-b947-4c55-cc6c-ad9ab7f6aed9"
      },
      "execution_count": null,
      "outputs": [
        {
          "output_type": "execute_result",
          "data": {
            "text/plain": [
              "{'BMW': 'X1', 'Lamborghini': 'Urus', 'Audi': 'A8'}"
            ]
          },
          "metadata": {},
          "execution_count": 60
        }
      ]
    },
    {
      "cell_type": "code",
      "source": [
        "dict1={\"Honda\",\"Suzuki\",\"Aprilla\"}\n",
        "dict2=0\n",
        "dict.fromkeys(dict1,dict2) #returns a dictionary with the specified keys and the specified value"
      ],
      "metadata": {
        "colab": {
          "base_uri": "https://localhost:8080/"
        },
        "id": "E_HXQGtQI_CC",
        "outputId": "7c86f659-803a-42ec-8b90-0cfa73140b59"
      },
      "execution_count": null,
      "outputs": [
        {
          "output_type": "execute_result",
          "data": {
            "text/plain": [
              "{'Aprilla': 0, 'Honda': 0, 'Suzuki': 0}"
            ]
          },
          "metadata": {},
          "execution_count": 61
        }
      ]
    },
    {
      "cell_type": "code",
      "source": [
        "car = {\n",
        "  \"brand\": \"Ford\",\n",
        "  \"model\": \"Mustang\",\n",
        "  \"year\": 1964\n",
        "}\n",
        "car.get(\"model\") #returns the value of the item with the specified key"
      ],
      "metadata": {
        "colab": {
          "base_uri": "https://localhost:8080/",
          "height": 35
        },
        "id": "QWT8SJdKKSXr",
        "outputId": "2e38d148-6dd0-4023-f437-7efcc74a9112"
      },
      "execution_count": null,
      "outputs": [
        {
          "output_type": "execute_result",
          "data": {
            "text/plain": [
              "'Mustang'"
            ],
            "application/vnd.google.colaboratory.intrinsic+json": {
              "type": "string"
            }
          },
          "metadata": {},
          "execution_count": 62
        }
      ]
    },
    {
      "cell_type": "code",
      "source": [
        "car = {\n",
        "  \"brand\": \"Ford\",\n",
        "  \"model\": \"Mustang\",\n",
        "  \"year\": 2023\n",
        "}\n",
        "car.items() #returns a view object. The view object contains the key-value pairs of the dictionary, as tuples in a list"
      ],
      "metadata": {
        "colab": {
          "base_uri": "https://localhost:8080/"
        },
        "id": "klExO3P8MHAK",
        "outputId": "ffdd2242-5547-4daf-a04f-70bafee311cc"
      },
      "execution_count": null,
      "outputs": [
        {
          "output_type": "execute_result",
          "data": {
            "text/plain": [
              "dict_items([('brand', 'Ford'), ('model', 'Mustang'), ('year', 2023)])"
            ]
          },
          "metadata": {},
          "execution_count": 63
        }
      ]
    },
    {
      "cell_type": "code",
      "source": [
        "bike = {\n",
        "  \"brand\": \"Suzuki\",\n",
        "  \"model\": \"Hayabusa\",\n",
        "  \"year\": 2023\n",
        "}\n",
        "bike.keys() #returns a view object. The view object contains the keys of the dictionary, as a list"
      ],
      "metadata": {
        "colab": {
          "base_uri": "https://localhost:8080/"
        },
        "id": "WeLggcWLNN_H",
        "outputId": "2f02fd7e-dd9a-4704-b251-ff8fed4ce66f"
      },
      "execution_count": null,
      "outputs": [
        {
          "output_type": "execute_result",
          "data": {
            "text/plain": [
              "dict_keys(['brand', 'model', 'year'])"
            ]
          },
          "metadata": {},
          "execution_count": 74
        }
      ]
    },
    {
      "cell_type": "code",
      "source": [
        "bike = {\n",
        "  \"brand\": \"Suzuki\",\n",
        "  \"model\": \"Hayabusa\",\n",
        "  \"year\": 2023\n",
        "}\n",
        "bike.pop(\"model\") #removes the specified item from the dictionary"
      ],
      "metadata": {
        "colab": {
          "base_uri": "https://localhost:8080/",
          "height": 35
        },
        "id": "HjnOm1FfNUkP",
        "outputId": "69c610c0-c4c8-4d0b-a486-4b70e2294503"
      },
      "execution_count": null,
      "outputs": [
        {
          "output_type": "execute_result",
          "data": {
            "text/plain": [
              "'Hayabusa'"
            ],
            "application/vnd.google.colaboratory.intrinsic+json": {
              "type": "string"
            }
          },
          "metadata": {},
          "execution_count": 75
        }
      ]
    },
    {
      "cell_type": "code",
      "source": [
        "bike = {\n",
        "  \"brand\": \"Suzuki\",\n",
        "  \"model\": \"Hayabusa\",\n",
        "  \"year\": 2023\n",
        "}\n",
        "bike.popitem() #removes the item that was last inserted into the dictionary"
      ],
      "metadata": {
        "colab": {
          "base_uri": "https://localhost:8080/"
        },
        "id": "1OpmCYD9NwNW",
        "outputId": "3012c5fe-1c8c-4ef2-b8b3-7d2660937126"
      },
      "execution_count": null,
      "outputs": [
        {
          "output_type": "execute_result",
          "data": {
            "text/plain": [
              "('year', 2023)"
            ]
          },
          "metadata": {},
          "execution_count": 76
        }
      ]
    },
    {
      "cell_type": "code",
      "source": [
        "bike = {\n",
        "  \"brand\": \"Suzuki\",\n",
        "  \"model\": \"Hayabusa\",\n",
        "  \"year\": 2023\n",
        "}\n",
        "bike.setdefault(\"engine type\") #returns the value of the item with the specified key"
      ],
      "metadata": {
        "id": "z7dKUJlaOAIV"
      },
      "execution_count": null,
      "outputs": []
    },
    {
      "cell_type": "code",
      "source": [
        "bike.setdefault(\"color\",\"grey\")"
      ],
      "metadata": {
        "colab": {
          "base_uri": "https://localhost:8080/",
          "height": 35
        },
        "id": "ooutFrOKPsbI",
        "outputId": "e06f2803-1d05-44ff-e51e-65d903e6674b"
      },
      "execution_count": null,
      "outputs": [
        {
          "output_type": "execute_result",
          "data": {
            "text/plain": [
              "'grey'"
            ],
            "application/vnd.google.colaboratory.intrinsic+json": {
              "type": "string"
            }
          },
          "metadata": {},
          "execution_count": 80
        }
      ]
    },
    {
      "cell_type": "code",
      "source": [
        "bike"
      ],
      "metadata": {
        "colab": {
          "base_uri": "https://localhost:8080/"
        },
        "id": "dYcye9SXPw78",
        "outputId": "dd0938fd-071d-4ed2-d408-b824fc8875cd"
      },
      "execution_count": null,
      "outputs": [
        {
          "output_type": "execute_result",
          "data": {
            "text/plain": [
              "{'brand': 'Suzuki',\n",
              " 'model': 'Hayabusa',\n",
              " 'year': 2023,\n",
              " 'engine type': None,\n",
              " 'color': 'grey'}"
            ]
          },
          "metadata": {},
          "execution_count": 81
        }
      ]
    },
    {
      "cell_type": "code",
      "source": [
        "bike.update({\"engine type\":\"petrol\"})#inserts the specified items to the dictionary"
      ],
      "metadata": {
        "id": "K2wEgWnxQfbK"
      },
      "execution_count": null,
      "outputs": []
    },
    {
      "cell_type": "code",
      "source": [
        "bike"
      ],
      "metadata": {
        "colab": {
          "base_uri": "https://localhost:8080/"
        },
        "id": "Fb4xJCQkQy-K",
        "outputId": "315a8503-d282-4a7e-9df0-e853c0e326af"
      },
      "execution_count": null,
      "outputs": [
        {
          "output_type": "execute_result",
          "data": {
            "text/plain": [
              "{'brand': 'Suzuki',\n",
              " 'model': 'Hayabusa',\n",
              " 'year': 2023,\n",
              " 'engine type': 'petrol',\n",
              " 'color': 'grey'}"
            ]
          },
          "metadata": {},
          "execution_count": 83
        }
      ]
    },
    {
      "cell_type": "code",
      "source": [
        "bike.update({\"Radio\":\"Yes\"}) #inserts the specified items to the dictionary"
      ],
      "metadata": {
        "id": "i8nS3FGSQznG"
      },
      "execution_count": null,
      "outputs": []
    },
    {
      "cell_type": "code",
      "source": [
        "bike"
      ],
      "metadata": {
        "colab": {
          "base_uri": "https://localhost:8080/"
        },
        "id": "4KPT5peyRNLl",
        "outputId": "0b755d46-dd9c-49d3-f36e-8e20b8ea0062"
      },
      "execution_count": null,
      "outputs": [
        {
          "output_type": "execute_result",
          "data": {
            "text/plain": [
              "{'brand': 'Suzuki',\n",
              " 'model': 'Hayabusa',\n",
              " 'year': 2023,\n",
              " 'engine type': 'petrol',\n",
              " 'color': 'grey',\n",
              " 'Radio': 'Yes'}"
            ]
          },
          "metadata": {},
          "execution_count": 85
        }
      ]
    },
    {
      "cell_type": "code",
      "source": [
        "bike.values() #returns a view object. The view object contains the values of the dictionary, as a list"
      ],
      "metadata": {
        "colab": {
          "base_uri": "https://localhost:8080/"
        },
        "id": "YA1qTQZHROUB",
        "outputId": "0b07bcf3-5d44-472c-bc0b-dff63f1337c6"
      },
      "execution_count": null,
      "outputs": [
        {
          "output_type": "execute_result",
          "data": {
            "text/plain": [
              "dict_values(['Suzuki', 'Hayabusa', 2023, 'petrol', 'grey', 'Yes'])"
            ]
          },
          "metadata": {},
          "execution_count": 86
        }
      ]
    },
    {
      "cell_type": "code",
      "source": [],
      "metadata": {
        "id": "VDKpk5NBR18z"
      },
      "execution_count": null,
      "outputs": []
    }
  ]
}